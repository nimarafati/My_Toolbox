{
 "cells": [
  {
   "cell_type": "markdown",
   "metadata": {},
   "source": [
    "# Table of content\n",
    "\n",
    "1. [Spatial RNA Detection](#spatial-rna-detection)  \n",
    "    1.1 [Microscopy](#microscopy)  \n",
    "        1.1.1 [_in situ_ Hybridization](#in-situ-hybridization)  \n",
    "            1.1.1.1 [Fluorescent _in situ_ hybridization(FISH)](#fluorescent-in-situ-hybridizationfish)  \n",
    "            1.1.1.2 [_in situ_ sequencing](#in-situ-sequenctin)\n",
    "        \n"
   ]
  },
  {
   "cell_type": "markdown",
   "metadata": {},
   "source": [
    "# Spatial RNA detection"
   ]
  },
  {
   "cell_type": "markdown",
   "metadata": {},
   "source": [
    "## Microscopy  "
   ]
  },
  {
   "cell_type": "markdown",
   "metadata": {},
   "source": [
    "### _in situ_ Hybridization  "
   ]
  },
  {
   "cell_type": "markdown",
   "metadata": {},
   "source": [
    "#### Fluorescent _in situ_ hybridization(FISH)\n",
    "- Barcoded fish    \n",
    "#### single molecule FISH (smFISH)  \n",
    "- More sensitive  because a gene is targeted with multiple probes.  \n",
    "- Very high-power microscope with a high magnification and a large aperture."
   ]
  },
  {
   "cell_type": "markdown",
   "metadata": {},
   "source": [
    "- Limitation is number of dyes but we can have another solution \n",
    "    - One solution is repeated staining on same sample by washing and staining again\n",
    "    - Barcoding "
   ]
  },
  {
   "cell_type": "markdown",
   "metadata": {},
   "source": [
    "Barcoding:\n",
    "- Staining\n",
    "- Striping melting them by heat or chemically or digesting them or by cleave by \n",
    "- Label again\n",
    "\n",
    "Problems:  \n",
    "- Limitation again is due to resolution of the techniques some overlapping genes may not be detetable.\n",
    "- Dropout/Misidentification of RNAs. Some of the barcodes/molecules may not reach the detection level\n",
    "- \n",
    "\n"
   ]
  },
  {
   "cell_type": "markdown",
   "metadata": {},
   "source": [
    "#### SeqFISH"
   ]
  },
  {
   "cell_type": "markdown",
   "metadata": {},
   "source": [
    "#### MERFISH  \n",
    "It is an error robust scheme, barcodes are not as dense as before. It is based on bit-wise color.  \n",
    "IN this techniques, Hamming distance is used to distinguish the barcodes/genes which is more robust in overcomming errors in barcodes/labelling.  \n"
   ]
  },
  {
   "cell_type": "markdown",
   "metadata": {},
   "source": [
    "Pipeline:  \n",
    "1- RNA detection/barcode calling  \n",
    "2- Match with the barcodes dictionary  \n",
    "3- Cell segmentation    \n",
    "4- Molecule counting  in each cell    \n",
    "   \n",
    "\n"
   ]
  },
  {
   "cell_type": "markdown",
   "metadata": {},
   "source": [
    "#### SeqFISH+ \n",
    "\n",
    "Increased the barcodes (10,000 genes _in situ_)  \n"
   ]
  },
  {
   "cell_type": "markdown",
   "metadata": {},
   "source": [
    "#### Transfer by electrophoresis: EEL  \n",
    "\n",
    "- Barcode FISH methods are slow and not very high spatial througput. It is dependent on very high objective microscope which makes FOV very small.   \n",
    "- RNA is pulled down\n",
    "- Then image  \n",
    "- FISH methods are stacking and objectives have very shallow depth of  field and to cover the whole thickness  of the tissue section you need to make  many many images and this makes it very  slow meaning that you can also not do a  large area. \n",
    "- We don't need to make as many  images in the Z Direction "
   ]
  },
  {
   "cell_type": "markdown",
   "metadata": {},
   "source": [
    "#### Summary of smFISH\n",
    "- Resolution: Diffraction limited (150-300nm)\n",
    "- Detection efficiency: 70-90%, EEL: 2.5-15%\n",
    "- Gene throughput: 100-10000\n",
    "- Spatial throughput: several mm2 -cm2"
   ]
  },
  {
   "cell_type": "markdown",
   "metadata": {},
   "source": [
    "#### HybISS  \n",
    "Lke ISS you have padlock hybridization and RCA but instead of sequencing  there is another probe (bridge-probe) which is hybridization probe-based. These encode predifined barcode for every padlock probe. \n",
    "\n",
    "\n",
    "\n",
    "**Note** Human tissues are very high auto-flourescence  "
   ]
  },
  {
   "cell_type": "markdown",
   "metadata": {},
   "source": [
    "#### _in situ_ sequencing"
   ]
  },
  {
   "cell_type": "markdown",
   "metadata": {},
   "source": [
    "- Rolling Circle Amplification (RCA) to amplify the target \n",
    "- Sequencing by litation\n",
    "\n",
    "- Example in [TisUUmaps](https://tissuumaps.scilifelab.se/project.tmap?path=private/Christophe/spot_inspector) \n"
   ]
  },
  {
   "cell_type": "markdown",
   "metadata": {},
   "source": [
    "##### FISSEQ\n",
    "- It is untargeted method using RCA. RNA ==> cDNA ==> RCA.\n",
    "- It targets tRNA/rRNA (which are abundant) \n",
    "- To have an unbiased read-out and it works well for samples without genome.   "
   ]
  },
  {
   "cell_type": "markdown",
   "metadata": {},
   "source": [
    "##### Expansion Sequencing  \n",
    "- Enlarging the tissue by scalable hydrogel. \n",
    "- Whole transcriptome"
   ]
  },
  {
   "cell_type": "markdown",
   "metadata": {},
   "source": [
    "##### STAR MAP  \n",
    "- No reverse-transcription and RCA is directly done on transcript.  Using padlock-like probe with a gene-unique identifier which is hybridized with SNAIL probe and then ==> RCA\n",
    "- RT is not super efficient in _in situ_ sequencing.  \n"
   ]
  },
  {
   "cell_type": "markdown",
   "metadata": {},
   "source": [
    "##### Summary of _in situ_  \n",
    "- Resolution: Amplicon size (0.5 - 1 um)\n",
    "- Detection efficiency: 0.01- ~50%\n",
    "- Gene throughput: 10-1000; except FISSEQ and Expansion sqeuencing  \n",
    "- Spatial throughput: several mm2-cm2"
   ]
  },
  {
   "cell_type": "markdown",
   "metadata": {},
   "source": [
    "## Sequencing "
   ]
  },
  {
   "cell_type": "markdown",
   "metadata": {},
   "source": [
    "### Spatial sequencing  \n",
    "RNA moves and attach to spatial barcodes located in space. "
   ]
  },
  {
   "cell_type": "markdown",
   "metadata": {},
   "source": [
    "#### 10X Visium\n",
    "It is an array based method where spots in the slide are barcoded.   \n",
    "It is similar to 10X scRNASeq in terms of data analysis but barcodes in this method are representing spots. "
   ]
  },
  {
   "cell_type": "markdown",
   "metadata": {},
   "source": [
    "#### Slide-Seq\n",
    "It uses beads with barcodes which is located on a slide. Beads will be put intro droplets in similar fashion to scRNASeq "
   ]
  },
  {
   "cell_type": "markdown",
   "metadata": {},
   "source": [
    "#### High density Spatial Transcriptomics \n",
    "- Smaller beads and more densed than Slide-Seq  \n",
    "- Much higher Resolution"
   ]
  },
  {
   "cell_type": "markdown",
   "metadata": {},
   "source": [
    "#### Stereo-seq  \n",
    "Stereo-seq  220 nm much denser "
   ]
  },
  {
   "cell_type": "markdown",
   "metadata": {},
   "source": [
    "#### Summary of Spatial Sequencing  \n",
    "- Resolution: Spot size 220 - 100 um\n",
    "- Detection efficiency: 0.1-20 %\n",
    "- Gene Trhoughput: Full transcriptome\n",
    "- Spatial throughput: Several mm2 - cm2"
   ]
  },
  {
   "cell_type": "markdown",
   "metadata": {},
   "source": [
    "### Spatial tagging \n",
    "RNA does not move while probes with barcodes move and are attached to the molecule.  "
   ]
  },
  {
   "cell_type": "markdown",
   "metadata": {},
   "source": [
    "#### DBiT-Seq\n",
    "- Microfluid to flow spatial barcodes \n",
    "- You can tag mRNA and proteins as well as epigenetic markers.  "
   ]
  },
  {
   "cell_type": "markdown",
   "metadata": {},
   "source": [
    "#### sci-Space\n",
    "- Cells are tagged\n",
    "- 73 um spots"
   ]
  },
  {
   "cell_type": "markdown",
   "metadata": {},
   "source": [
    "#### Summary of Spatial Tagging\n",
    "- Resolution: 10um-100um\n",
    "- Detection efficiency: 15-20%\n",
    "- Gene throughput: Full transcriptome\n",
    "- Sptial thtoughput: Several mm2"
   ]
  },
  {
   "cell_type": "markdown",
   "metadata": {
    "vscode": {
     "languageId": "plaintext"
    }
   },
   "source": [
    "Slide-seq 10 um\n",
    "High density Spatial transcriptoomics 2um\n",
    "Stereo-seq  220 nm\n",
    "Visium 500 um\n",
    "\n",
    "sci-Space 73 um\n",
    "\n"
   ]
  },
  {
   "cell_type": "markdown",
   "metadata": {},
   "source": [
    "    "
   ]
  },
  {
   "cell_type": "markdown",
   "metadata": {},
   "source": [
    "Very good source to check:  \n",
    "https://pachterlab.github.io/LP_2021/ for [the paper Museum of Spatial Transcriptomics](https://www.nature.com/articles/s41592-022-01409-2) paper.   "
   ]
  }
 ],
 "metadata": {
  "kernelspec": {
   "display_name": "spatial2022",
   "language": "python",
   "name": "python3"
  },
  "language_info": {
   "codemirror_mode": {
    "name": "ipython",
    "version": 3
   },
   "file_extension": ".py",
   "mimetype": "text/x-python",
   "name": "python",
   "nbconvert_exporter": "python",
   "pygments_lexer": "ipython3",
   "version": "3.9.16"
  },
  "orig_nbformat": 4
 },
 "nbformat": 4,
 "nbformat_minor": 2
}
