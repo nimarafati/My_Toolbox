{
 "cells": [
  {
   "cell_type": "markdown",
   "metadata": {},
   "source": [
    "# Digitization \n",
    "- Gray scale quantization: Discretization of amplitude values\n",
    "- Spatial sampling: Discretizing a continouos function in terms of coordinate value  \n",
    "- Uniform sampling: Sampling on a lattice\n",
    "- Non-uniform sampling: Adaptive, denser a lot of details"
   ]
  },
  {
   "cell_type": "markdown",
   "metadata": {},
   "source": [
    "Microscopu images 12/16 bit images; mostly 16 ==> 4096 or 65536 different levels of  gray.  "
   ]
  },
  {
   "cell_type": "markdown",
   "metadata": {},
   "source": []
  },
  {
   "cell_type": "markdown",
   "metadata": {},
   "source": [
    "HUman can see only 32 levels of gray"
   ]
  },
  {
   "cell_type": "markdown",
   "metadata": {},
   "source": [
    "\n",
    "# Image coding and compression \n"
   ]
  },
  {
   "cell_type": "markdown",
   "metadata": {},
   "source": [
    "## Redundancy \n",
    "Infomration and data are different things.\n",
    "**Data** is how you encode/express your **information**.  \n",
    "Redundant data does not provide additional information.  \n",
    "\n",
    "- Coding redundancy: Some gray levels are more common.  \n",
    "- Interpixel reduncancy: The same gray level covering a large area.\n",
    "- Psycho-visual redundancy: 32 levels to be suitable for human eye (only for observation)  "
   ]
  },
  {
   "cell_type": "markdown",
   "metadata": {},
   "source": [
    "## Compression\n",
    "- Reversible (lossless): No loss of information. (2-10 times): \n",
    "    - TIFF, OME-TIFF; With annotaiton information, with 16 bits/pixel and multible channels. can use different compression methods. (COmpression: Huffman, LZW)\n",
    "    - GIF; One channel and 256 colors. (Compression: LZW)  \n",
    "    - PNG; 16bits/pixel 4 channels with RGB + transparency (Compression Huffman, LZW)\n",
    "\n",
    "- Non reversible (lossy): loss of information (10-30 times): JPEG (.jpg, .jpe, .jpeg), JPEG2000 (.jp2, .jpx)  \n",
    "- Vector based: Shapes of objects are defined by lines....\n",
    "    - PS\n",
    "    - EPS\n",
    "    - PDF\n",
    "    - SVG \n"
   ]
  },
  {
   "cell_type": "markdown",
   "metadata": {},
   "source": [
    "Bio-format is a good tool for reading/writing image data.  "
   ]
  },
  {
   "cell_type": "markdown",
   "metadata": {},
   "source": []
  }
 ],
 "metadata": {
  "language_info": {
   "name": "python"
  },
  "orig_nbformat": 4
 },
 "nbformat": 4,
 "nbformat_minor": 2
}
